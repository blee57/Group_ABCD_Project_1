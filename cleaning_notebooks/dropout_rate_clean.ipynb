{
 "cells": [
  {
   "cell_type": "code",
   "execution_count": 2,
   "source": [
    "import pandas as pd"
   ],
   "outputs": [],
   "metadata": {}
  },
  {
   "cell_type": "code",
   "execution_count": 4,
   "source": [
    "dropout_df = pd.read_csv('../dataset/7-12 Dropout Rate-2018_DEC_10th_2018.csv')"
   ],
   "outputs": [],
   "metadata": {}
  },
  {
   "cell_type": "code",
   "execution_count": 5,
   "source": [
    "dropout_df.columns"
   ],
   "outputs": [
    {
     "output_type": "execute_result",
     "data": {
      "text/plain": [
       "Index(['LONG_SCHOOL_YEAR', 'DETAIL_LVL_DESC', 'SCHOOL_DSTRCT_CD',\n",
       "       'SCHOOL_DSTRCT_NM', 'INSTN_NUMBER', 'INSTN_NAME', 'GRADES_SERVED_DESC',\n",
       "       'LABEL_LVL_1_DESC', 'PROGRAM_TOTAL', 'PROGRAM_PERCENT'],\n",
       "      dtype='object')"
      ]
     },
     "metadata": {},
     "execution_count": 5
    }
   ],
   "metadata": {}
  },
  {
   "cell_type": "code",
   "execution_count": 12,
   "source": [
    "dropout_df = dropout_df.loc[dropout_df['SCHOOL_DSTRCT_CD'] != 'ALL']"
   ],
   "outputs": [],
   "metadata": {}
  },
  {
   "cell_type": "code",
   "execution_count": 22,
   "source": [
    "dropout_df['School District Code'] = dropout_df['SCHOOL_DSTRCT_CD'].astype(int)"
   ],
   "outputs": [],
   "metadata": {}
  },
  {
   "cell_type": "code",
   "execution_count": 24,
   "source": [
    "dropout_df = dropout_df.drop(columns = 'SCHOOL_DSTRCT_CD')\r\n",
    "dropout_df = dropout_df[['School District Code', 'LABEL_LVL_1_DESC', 'PROGRAM_TOTAL', 'PROGRAM_PERCENT']]"
   ],
   "outputs": [],
   "metadata": {}
  },
  {
   "cell_type": "code",
   "execution_count": 28,
   "source": [
    "droout_clean = dropout_df.dropna()\r\n"
   ],
   "outputs": [],
   "metadata": {}
  },
  {
   "cell_type": "code",
   "execution_count": 29,
   "source": [
    "droout_clean.to_csv('../data_export/dropout_clean.csv')"
   ],
   "outputs": [],
   "metadata": {}
  },
  {
   "cell_type": "code",
   "execution_count": null,
   "source": [],
   "outputs": [],
   "metadata": {}
  }
 ],
 "metadata": {
  "orig_nbformat": 4,
  "language_info": {
   "name": "python",
   "version": "3.9.4",
   "mimetype": "text/x-python",
   "codemirror_mode": {
    "name": "ipython",
    "version": 3
   },
   "pygments_lexer": "ipython3",
   "nbconvert_exporter": "python",
   "file_extension": ".py"
  },
  "kernelspec": {
   "name": "python3",
   "display_name": "Python 3.9.4 64-bit (conda)"
  },
  "interpreter": {
   "hash": "34f272d8157fdf46b47d42224e7979d309dc160809bb0a91383f850ebed3338e"
  }
 },
 "nbformat": 4,
 "nbformat_minor": 2
}