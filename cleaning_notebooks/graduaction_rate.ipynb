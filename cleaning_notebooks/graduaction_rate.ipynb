{
 "cells": [
  {
   "cell_type": "code",
   "execution_count": 1,
   "source": [
    "import pandas as pd"
   ],
   "outputs": [],
   "metadata": {}
  },
  {
   "cell_type": "code",
   "execution_count": 3,
   "source": [
    "df_graduation =  pd.read_csv('../dataset/Graduation_Rate_2019_Dec2nd_2019 (3).csv')"
   ],
   "outputs": [],
   "metadata": {}
  },
  {
   "cell_type": "code",
   "execution_count": 4,
   "source": [
    "df_graduation.columns"
   ],
   "outputs": [
    {
     "output_type": "execute_result",
     "data": {
      "text/plain": [
       "Index(['LONG_SCHOOL_YEAR', 'DETAIL_LVL_DESC', 'SCHOOL_DSTRCT_CD',\n",
       "       'SCHOOL_DSTRCT_NM', 'INSTN_NUMBER', 'INSTN_NAME', 'GRADES_SERVED_DESC',\n",
       "       'LABEL_LVL_1_DESC', 'PROGRAM_TOTAL', 'PROGRAM_PERCENT', 'TOTAL_COUNT'],\n",
       "      dtype='object')"
      ]
     },
     "metadata": {},
     "execution_count": 4
    }
   ],
   "metadata": {}
  },
  {
   "cell_type": "code",
   "execution_count": 19,
   "source": [
    "df_id_label = df_graduation.groupby(['SCHOOL_DSTRCT_CD','LABEL_LVL_1_DESC']).mean().reset_index()"
   ],
   "outputs": [],
   "metadata": {}
  },
  {
   "cell_type": "code",
   "execution_count": 25,
   "source": [
    "grad_rate_cleaned = df_id_label.dropna()\r\n",
    "grad_rate_cleaned.rename(columns={'SCHOOL_DSTRCT_CD':'School District Code'})"
   ],
   "outputs": [
    {
     "output_type": "execute_result",
     "data": {
      "text/plain": [
       "      School District Code                           LABEL_LVL_1_DESC  \\\n",
       "0                      601                    Grad Rate -ALL Students   \n",
       "4                      601                           Grad Rate -Black   \n",
       "5                      601      Grad Rate -Economically Disadvantaged   \n",
       "6                      601                          Grad Rate -Female   \n",
       "8                      601                        Grad Rate -Hispanic   \n",
       "...                    ...                                        ...   \n",
       "3240                   891                    Grad Rate -ALL Students   \n",
       "3244                   891                           Grad Rate -Black   \n",
       "3251                   891                            Grad Rate -Male   \n",
       "3254                   891  Grad Rate -Not Economically Disadvantaged   \n",
       "3256                   891     Grad Rate -Students Without Disability   \n",
       "\n",
       "      PROGRAM_TOTAL  PROGRAM_PERCENT  TOTAL_COUNT  \n",
       "0             220.0            90.16        244.0  \n",
       "4              54.0            96.43         56.0  \n",
       "5             220.0            90.53        243.0  \n",
       "6             110.0            90.91        121.0  \n",
       "8              29.0            93.55         31.0  \n",
       "...             ...              ...          ...  \n",
       "3240           23.0            12.92        178.0  \n",
       "3244           16.0            11.43        140.0  \n",
       "3251           18.0            10.91        165.0  \n",
       "3254           20.0            14.30        140.0  \n",
       "3256           18.0            14.20        127.0  \n",
       "\n",
       "[1829 rows x 5 columns]"
      ],
      "text/html": [
       "<div>\n",
       "<style scoped>\n",
       "    .dataframe tbody tr th:only-of-type {\n",
       "        vertical-align: middle;\n",
       "    }\n",
       "\n",
       "    .dataframe tbody tr th {\n",
       "        vertical-align: top;\n",
       "    }\n",
       "\n",
       "    .dataframe thead th {\n",
       "        text-align: right;\n",
       "    }\n",
       "</style>\n",
       "<table border=\"1\" class=\"dataframe\">\n",
       "  <thead>\n",
       "    <tr style=\"text-align: right;\">\n",
       "      <th></th>\n",
       "      <th>School District Code</th>\n",
       "      <th>LABEL_LVL_1_DESC</th>\n",
       "      <th>PROGRAM_TOTAL</th>\n",
       "      <th>PROGRAM_PERCENT</th>\n",
       "      <th>TOTAL_COUNT</th>\n",
       "    </tr>\n",
       "  </thead>\n",
       "  <tbody>\n",
       "    <tr>\n",
       "      <th>0</th>\n",
       "      <td>601</td>\n",
       "      <td>Grad Rate -ALL Students</td>\n",
       "      <td>220.0</td>\n",
       "      <td>90.16</td>\n",
       "      <td>244.0</td>\n",
       "    </tr>\n",
       "    <tr>\n",
       "      <th>4</th>\n",
       "      <td>601</td>\n",
       "      <td>Grad Rate -Black</td>\n",
       "      <td>54.0</td>\n",
       "      <td>96.43</td>\n",
       "      <td>56.0</td>\n",
       "    </tr>\n",
       "    <tr>\n",
       "      <th>5</th>\n",
       "      <td>601</td>\n",
       "      <td>Grad Rate -Economically Disadvantaged</td>\n",
       "      <td>220.0</td>\n",
       "      <td>90.53</td>\n",
       "      <td>243.0</td>\n",
       "    </tr>\n",
       "    <tr>\n",
       "      <th>6</th>\n",
       "      <td>601</td>\n",
       "      <td>Grad Rate -Female</td>\n",
       "      <td>110.0</td>\n",
       "      <td>90.91</td>\n",
       "      <td>121.0</td>\n",
       "    </tr>\n",
       "    <tr>\n",
       "      <th>8</th>\n",
       "      <td>601</td>\n",
       "      <td>Grad Rate -Hispanic</td>\n",
       "      <td>29.0</td>\n",
       "      <td>93.55</td>\n",
       "      <td>31.0</td>\n",
       "    </tr>\n",
       "    <tr>\n",
       "      <th>...</th>\n",
       "      <td>...</td>\n",
       "      <td>...</td>\n",
       "      <td>...</td>\n",
       "      <td>...</td>\n",
       "      <td>...</td>\n",
       "    </tr>\n",
       "    <tr>\n",
       "      <th>3240</th>\n",
       "      <td>891</td>\n",
       "      <td>Grad Rate -ALL Students</td>\n",
       "      <td>23.0</td>\n",
       "      <td>12.92</td>\n",
       "      <td>178.0</td>\n",
       "    </tr>\n",
       "    <tr>\n",
       "      <th>3244</th>\n",
       "      <td>891</td>\n",
       "      <td>Grad Rate -Black</td>\n",
       "      <td>16.0</td>\n",
       "      <td>11.43</td>\n",
       "      <td>140.0</td>\n",
       "    </tr>\n",
       "    <tr>\n",
       "      <th>3251</th>\n",
       "      <td>891</td>\n",
       "      <td>Grad Rate -Male</td>\n",
       "      <td>18.0</td>\n",
       "      <td>10.91</td>\n",
       "      <td>165.0</td>\n",
       "    </tr>\n",
       "    <tr>\n",
       "      <th>3254</th>\n",
       "      <td>891</td>\n",
       "      <td>Grad Rate -Not Economically Disadvantaged</td>\n",
       "      <td>20.0</td>\n",
       "      <td>14.30</td>\n",
       "      <td>140.0</td>\n",
       "    </tr>\n",
       "    <tr>\n",
       "      <th>3256</th>\n",
       "      <td>891</td>\n",
       "      <td>Grad Rate -Students Without Disability</td>\n",
       "      <td>18.0</td>\n",
       "      <td>14.20</td>\n",
       "      <td>127.0</td>\n",
       "    </tr>\n",
       "  </tbody>\n",
       "</table>\n",
       "<p>1829 rows × 5 columns</p>\n",
       "</div>"
      ]
     },
     "metadata": {},
     "execution_count": 25
    }
   ],
   "metadata": {}
  },
  {
   "cell_type": "code",
   "execution_count": 23,
   "source": [
    "grad_rate_cleaned.to_csv(\r\n",
    "    '../data_export/var_grad_program_cleaned.csv'\r\n",
    ")"
   ],
   "outputs": [],
   "metadata": {}
  },
  {
   "cell_type": "code",
   "execution_count": null,
   "source": [],
   "outputs": [],
   "metadata": {}
  }
 ],
 "metadata": {
  "orig_nbformat": 4,
  "language_info": {
   "name": "python",
   "version": "3.9.4",
   "mimetype": "text/x-python",
   "codemirror_mode": {
    "name": "ipython",
    "version": 3
   },
   "pygments_lexer": "ipython3",
   "nbconvert_exporter": "python",
   "file_extension": ".py"
  },
  "kernelspec": {
   "name": "python3",
   "display_name": "Python 3.9.4 64-bit (conda)"
  },
  "interpreter": {
   "hash": "34f272d8157fdf46b47d42224e7979d309dc160809bb0a91383f850ebed3338e"
  }
 },
 "nbformat": 4,
 "nbformat_minor": 2
}