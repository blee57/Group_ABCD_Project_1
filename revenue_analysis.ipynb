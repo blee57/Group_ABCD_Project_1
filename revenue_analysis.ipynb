{
 "cells": [
  {
   "cell_type": "code",
   "execution_count": 3,
   "source": [
    "import pandas as pd"
   ],
   "outputs": [],
   "metadata": {}
  },
  {
   "cell_type": "markdown",
   "source": [
    "# Load data from revenue, and public performance"
   ],
   "metadata": {}
  },
  {
   "cell_type": "code",
   "execution_count": 4,
   "source": [
    "school_df = pd.read_csv('school_clean.csv')\r\n",
    "revenue_data = pd.read_csv('Revenues_and_Expenditures_2018_DEC_10th_2018.csv')\r\n",
    "district = pd.read_csv('district-18.csv')"
   ],
   "outputs": [],
   "metadata": {}
  },
  {
   "cell_type": "markdown",
   "source": [
    "## Cleaning the revenue data and prepping it for merge\r\n"
   ],
   "metadata": {}
  },
  {
   "cell_type": "code",
   "execution_count": 5,
   "source": [
    "revenue_all = revenue_data.loc[revenue_data[revenue_data.columns[1]] == 'ALL']\r\n",
    "revenue_district = revenue_data.loc[revenue_data[revenue_data.columns[1]] != 'ALL']\r\n",
    "revenue_all.loc[:,'Percent Total'] = revenue_all['REV_EXP_VALUE']/revenue_all['REV_EXP_VALUE'].sum()\r\n",
    "# revenue_all.sort_values('Percent Total', axis = 1, ascending = False)\r\n",
    "top_expense = revenue_all.sort_values('Percent Total', ascending = False)[['Description',\t'REV_EXP_VALUE',\t'Dollars per FTE',\t'Percent Total']].head(5)\r\n",
    "top_expense"
   ],
   "outputs": [
    {
     "output_type": "stream",
     "name": "stderr",
     "text": [
      "C:\\Users\\hsueh\\Conda\\envs\\PythonEnv3.9\\lib\\site-packages\\pandas\\core\\indexing.py:1597: SettingWithCopyWarning: \n",
      "A value is trying to be set on a copy of a slice from a DataFrame.\n",
      "Try using .loc[row_indexer,col_indexer] = value instead\n",
      "\n",
      "See the caveats in the documentation: https://pandas.pydata.org/pandas-docs/stable/user_guide/indexing.html#returning-a-view-versus-a-copy\n",
      "  self.obj[key] = value\n",
      "C:\\Users\\hsueh\\Conda\\envs\\PythonEnv3.9\\lib\\site-packages\\pandas\\core\\indexing.py:1676: SettingWithCopyWarning: \n",
      "A value is trying to be set on a copy of a slice from a DataFrame.\n",
      "Try using .loc[row_indexer,col_indexer] = value instead\n",
      "\n",
      "See the caveats in the documentation: https://pandas.pydata.org/pandas-docs/stable/user_guide/indexing.html#returning-a-view-versus-a-copy\n",
      "  self._setitem_single_column(ilocs[0], value, pi)\n"
     ]
    },
    {
     "output_type": "execute_result",
     "data": {
      "text/plain": [
       "                   Description  REV_EXP_VALUE  Dollars per FTE  Percent Total\n",
       "2                  Instruction   1.054111e+10          6019.23       0.327217\n",
       "16                   State QBE   9.076444e+09          5182.87       0.281751\n",
       "12                       Local   6.974889e+09          3982.83       0.216514\n",
       "4   Maintenance and Operations   1.354104e+09           773.23       0.042034\n",
       "8        School Administration   1.118083e+09           638.45       0.034707"
      ],
      "text/html": [
       "<div>\n",
       "<style scoped>\n",
       "    .dataframe tbody tr th:only-of-type {\n",
       "        vertical-align: middle;\n",
       "    }\n",
       "\n",
       "    .dataframe tbody tr th {\n",
       "        vertical-align: top;\n",
       "    }\n",
       "\n",
       "    .dataframe thead th {\n",
       "        text-align: right;\n",
       "    }\n",
       "</style>\n",
       "<table border=\"1\" class=\"dataframe\">\n",
       "  <thead>\n",
       "    <tr style=\"text-align: right;\">\n",
       "      <th></th>\n",
       "      <th>Description</th>\n",
       "      <th>REV_EXP_VALUE</th>\n",
       "      <th>Dollars per FTE</th>\n",
       "      <th>Percent Total</th>\n",
       "    </tr>\n",
       "  </thead>\n",
       "  <tbody>\n",
       "    <tr>\n",
       "      <th>2</th>\n",
       "      <td>Instruction</td>\n",
       "      <td>1.054111e+10</td>\n",
       "      <td>6019.23</td>\n",
       "      <td>0.327217</td>\n",
       "    </tr>\n",
       "    <tr>\n",
       "      <th>16</th>\n",
       "      <td>State QBE</td>\n",
       "      <td>9.076444e+09</td>\n",
       "      <td>5182.87</td>\n",
       "      <td>0.281751</td>\n",
       "    </tr>\n",
       "    <tr>\n",
       "      <th>12</th>\n",
       "      <td>Local</td>\n",
       "      <td>6.974889e+09</td>\n",
       "      <td>3982.83</td>\n",
       "      <td>0.216514</td>\n",
       "    </tr>\n",
       "    <tr>\n",
       "      <th>4</th>\n",
       "      <td>Maintenance and Operations</td>\n",
       "      <td>1.354104e+09</td>\n",
       "      <td>773.23</td>\n",
       "      <td>0.042034</td>\n",
       "    </tr>\n",
       "    <tr>\n",
       "      <th>8</th>\n",
       "      <td>School Administration</td>\n",
       "      <td>1.118083e+09</td>\n",
       "      <td>638.45</td>\n",
       "      <td>0.034707</td>\n",
       "    </tr>\n",
       "  </tbody>\n",
       "</table>\n",
       "</div>"
      ]
     },
     "metadata": {},
     "execution_count": 5
    }
   ],
   "metadata": {}
  },
  {
   "cell_type": "code",
   "execution_count": 6,
   "source": [
    "school_df"
   ],
   "outputs": [
    {
     "output_type": "execute_result",
     "data": {
      "text/plain": [
       "     School Year  School District Code            School District Name  \\\n",
       "0           2017                   601                  Appling County   \n",
       "1           2017                   602                 Atkinson County   \n",
       "2           2017                   603                    Bacon County   \n",
       "3           2017                   605                  Baldwin County   \n",
       "4           2017                   606                    Banks County   \n",
       "..           ...                   ...                             ...   \n",
       "180         2017                   789                Thomasville City   \n",
       "181         2017                   791                      Trion City   \n",
       "182         2017                   792                   Valdosta City   \n",
       "183         2017                   793                    Vidalia City   \n",
       "184         2017                   891  Department of Juvenile Justice   \n",
       "\n",
       "    School Code  School Name  Graduates  Postsecondary Institution  Percent  \n",
       "0           ALL  All Schools      198.0                      118.0    59.60  \n",
       "1           ALL  All Schools       97.0                       60.0    61.86  \n",
       "2           ALL  All Schools      118.0                       66.0    55.93  \n",
       "3           ALL  All Schools      271.0                      171.0    63.10  \n",
       "4           ALL  All Schools      209.0                      108.0    51.67  \n",
       "..          ...          ...        ...                        ...      ...  \n",
       "180         ALL  All Schools      155.0                      123.0    79.35  \n",
       "181         ALL  All Schools       88.0                       69.0    78.41  \n",
       "182         ALL  All Schools      374.0                      247.0    66.04  \n",
       "183         ALL  All Schools      167.0                      114.0    68.26  \n",
       "184         ALL  All Schools       20.0                       10.0    50.00  \n",
       "\n",
       "[185 rows x 8 columns]"
      ],
      "text/html": [
       "<div>\n",
       "<style scoped>\n",
       "    .dataframe tbody tr th:only-of-type {\n",
       "        vertical-align: middle;\n",
       "    }\n",
       "\n",
       "    .dataframe tbody tr th {\n",
       "        vertical-align: top;\n",
       "    }\n",
       "\n",
       "    .dataframe thead th {\n",
       "        text-align: right;\n",
       "    }\n",
       "</style>\n",
       "<table border=\"1\" class=\"dataframe\">\n",
       "  <thead>\n",
       "    <tr style=\"text-align: right;\">\n",
       "      <th></th>\n",
       "      <th>School Year</th>\n",
       "      <th>School District Code</th>\n",
       "      <th>School District Name</th>\n",
       "      <th>School Code</th>\n",
       "      <th>School Name</th>\n",
       "      <th>Graduates</th>\n",
       "      <th>Postsecondary Institution</th>\n",
       "      <th>Percent</th>\n",
       "    </tr>\n",
       "  </thead>\n",
       "  <tbody>\n",
       "    <tr>\n",
       "      <th>0</th>\n",
       "      <td>2017</td>\n",
       "      <td>601</td>\n",
       "      <td>Appling County</td>\n",
       "      <td>ALL</td>\n",
       "      <td>All Schools</td>\n",
       "      <td>198.0</td>\n",
       "      <td>118.0</td>\n",
       "      <td>59.60</td>\n",
       "    </tr>\n",
       "    <tr>\n",
       "      <th>1</th>\n",
       "      <td>2017</td>\n",
       "      <td>602</td>\n",
       "      <td>Atkinson County</td>\n",
       "      <td>ALL</td>\n",
       "      <td>All Schools</td>\n",
       "      <td>97.0</td>\n",
       "      <td>60.0</td>\n",
       "      <td>61.86</td>\n",
       "    </tr>\n",
       "    <tr>\n",
       "      <th>2</th>\n",
       "      <td>2017</td>\n",
       "      <td>603</td>\n",
       "      <td>Bacon County</td>\n",
       "      <td>ALL</td>\n",
       "      <td>All Schools</td>\n",
       "      <td>118.0</td>\n",
       "      <td>66.0</td>\n",
       "      <td>55.93</td>\n",
       "    </tr>\n",
       "    <tr>\n",
       "      <th>3</th>\n",
       "      <td>2017</td>\n",
       "      <td>605</td>\n",
       "      <td>Baldwin County</td>\n",
       "      <td>ALL</td>\n",
       "      <td>All Schools</td>\n",
       "      <td>271.0</td>\n",
       "      <td>171.0</td>\n",
       "      <td>63.10</td>\n",
       "    </tr>\n",
       "    <tr>\n",
       "      <th>4</th>\n",
       "      <td>2017</td>\n",
       "      <td>606</td>\n",
       "      <td>Banks County</td>\n",
       "      <td>ALL</td>\n",
       "      <td>All Schools</td>\n",
       "      <td>209.0</td>\n",
       "      <td>108.0</td>\n",
       "      <td>51.67</td>\n",
       "    </tr>\n",
       "    <tr>\n",
       "      <th>...</th>\n",
       "      <td>...</td>\n",
       "      <td>...</td>\n",
       "      <td>...</td>\n",
       "      <td>...</td>\n",
       "      <td>...</td>\n",
       "      <td>...</td>\n",
       "      <td>...</td>\n",
       "      <td>...</td>\n",
       "    </tr>\n",
       "    <tr>\n",
       "      <th>180</th>\n",
       "      <td>2017</td>\n",
       "      <td>789</td>\n",
       "      <td>Thomasville City</td>\n",
       "      <td>ALL</td>\n",
       "      <td>All Schools</td>\n",
       "      <td>155.0</td>\n",
       "      <td>123.0</td>\n",
       "      <td>79.35</td>\n",
       "    </tr>\n",
       "    <tr>\n",
       "      <th>181</th>\n",
       "      <td>2017</td>\n",
       "      <td>791</td>\n",
       "      <td>Trion City</td>\n",
       "      <td>ALL</td>\n",
       "      <td>All Schools</td>\n",
       "      <td>88.0</td>\n",
       "      <td>69.0</td>\n",
       "      <td>78.41</td>\n",
       "    </tr>\n",
       "    <tr>\n",
       "      <th>182</th>\n",
       "      <td>2017</td>\n",
       "      <td>792</td>\n",
       "      <td>Valdosta City</td>\n",
       "      <td>ALL</td>\n",
       "      <td>All Schools</td>\n",
       "      <td>374.0</td>\n",
       "      <td>247.0</td>\n",
       "      <td>66.04</td>\n",
       "    </tr>\n",
       "    <tr>\n",
       "      <th>183</th>\n",
       "      <td>2017</td>\n",
       "      <td>793</td>\n",
       "      <td>Vidalia City</td>\n",
       "      <td>ALL</td>\n",
       "      <td>All Schools</td>\n",
       "      <td>167.0</td>\n",
       "      <td>114.0</td>\n",
       "      <td>68.26</td>\n",
       "    </tr>\n",
       "    <tr>\n",
       "      <th>184</th>\n",
       "      <td>2017</td>\n",
       "      <td>891</td>\n",
       "      <td>Department of Juvenile Justice</td>\n",
       "      <td>ALL</td>\n",
       "      <td>All Schools</td>\n",
       "      <td>20.0</td>\n",
       "      <td>10.0</td>\n",
       "      <td>50.00</td>\n",
       "    </tr>\n",
       "  </tbody>\n",
       "</table>\n",
       "<p>185 rows × 8 columns</p>\n",
       "</div>"
      ]
     },
     "metadata": {},
     "execution_count": 6
    }
   ],
   "metadata": {}
  },
  {
   "cell_type": "code",
   "execution_count": 7,
   "source": [
    "# pd.merge(school_df,revenue_district,on = 'DISTRICT_CODE')\r\n",
    "school_df\r\n",
    "revenue_district = revenue_district.rename(columns={'DISTRICT_CODE' : school_df.columns[1]})\r\n",
    "\r\n",
    "school_df['School District Code']\r\n",
    "revenue_district ['School District Code'] = revenue_district['School District Code'].astype(int)"
   ],
   "outputs": [],
   "metadata": {}
  },
  {
   "cell_type": "code",
   "execution_count": 19,
   "source": [
    "revenue_percent = pd.merge(school_df, revenue_district, how='inner', on='School District Code')\r\n",
    "\r\n",
    "revenue_percent.loc[:,'Percent'] = revenue_percent['Percent'].round()\r\n",
    "rounded_school_df = revenue_percent.groupby('Percent').mean()[['REV_EXP_VALUE', 'Dollars per FTE']]"
   ],
   "outputs": [],
   "metadata": {}
  },
  {
   "cell_type": "code",
   "execution_count": 22,
   "source": [
    "rounded_school_df.plot.bar(y = 'REV_EXP_VALUE',figsize = (20,6))\r\n",
    "# revenue_percent.plot.bar(y = 'REV_EXP_VALUE', x = 'Percent')"
   ],
   "outputs": [
    {
     "output_type": "execute_result",
     "data": {
      "text/plain": [
       "<AxesSubplot:xlabel='Percent'>"
      ]
     },
     "metadata": {},
     "execution_count": 22
    },
    {
     "output_type": "display_data",
     "data": {
      "text/plain": [
       "<Figure size 1440x432 with 1 Axes>"
      ],
      "image/png": "[encoded data removed]"
     },
     "metadata": {
      "needs_background": "light"
     }
    }
   ],
   "metadata": {}
  },
  {
   "cell_type": "code",
   "execution_count": null,
   "source": [
    "revenue_percent.columns"
   ],
   "outputs": [
    {
     "output_type": "execute_result",
     "data": {
      "text/plain": [
       "Index(['School Year', 'School District Code', 'School District Name',\n",
       "       'School Code', 'School Name', 'Graduates', 'Postsecondary Institution',\n",
       "       'Percent', 'SCHOOL_YEAR', 'DISTRICT_NAME', 'SCHOOL_CODE', 'SCHOOL_NAME',\n",
       "       'Revenues/Expenditures', 'Description', 'REV_EXP_VALUE',\n",
       "       'Dollars per FTE'],\n",
       "      dtype='object')"
      ]
     },
     "metadata": {},
     "execution_count": 42
    }
   ],
   "metadata": {}
  },
  {
   "cell_type": "code",
   "execution_count": null,
   "source": [],
   "outputs": [],
   "metadata": {}
  }
 ],
 "metadata": {
  "language_info": {
   "name": "python",
   "version": "3.9.4",
   "mimetype": "text/x-python",
   "codemirror_mode": {
    "name": "ipython",
    "version": 3
   },
   "pygments_lexer": "ipython3",
   "nbconvert_exporter": "python",
   "file_extension": ".py"
  },
  "kernelspec": {
   "name": "python3",
   "display_name": "Python 3.9.4 64-bit (conda)"
  },
  "interpreter": {
   "hash": "34f272d8157fdf46b47d42224e7979d309dc160809bb0a91383f850ebed3338e"
  }
 },
 "nbformat": 4,
 "nbformat_minor": 5
}